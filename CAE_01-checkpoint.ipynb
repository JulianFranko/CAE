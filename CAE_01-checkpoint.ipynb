{
 "cells": [
  {
   "cell_type": "code",
   "execution_count": 21,
   "id": "great-launch",
   "metadata": {},
   "outputs": [],
   "source": [
    "import numpy as np"
   ]
  },
  {
   "cell_type": "code",
   "execution_count": 91,
   "id": "sexual-lending",
   "metadata": {},
   "outputs": [],
   "source": [
    "np.set_printoptions(suppress=True)"
   ]
  },
  {
   "cell_type": "markdown",
   "id": "comfortable-newfoundland",
   "metadata": {},
   "source": [
    "PLOBLEMA 3 PROBLEMARIO"
   ]
  },
  {
   "cell_type": "code",
   "execution_count": 22,
   "id": "naughty-profile",
   "metadata": {},
   "outputs": [],
   "source": [
    "KG=np.array([[170,-170,0,0],\n",
    "               [-170,510,0,0],\n",
    "               [0,0,510,-170],\n",
    "               [0,0,-170,170]])"
   ]
  },
  {
   "cell_type": "code",
   "execution_count": 23,
   "id": "critical-exhibit",
   "metadata": {},
   "outputs": [],
   "source": [
    "KN=np.array([[510,-340,0],\n",
    "             [-340,510,-170],\n",
    "             [0,-170,170]])\n",
    "             "
   ]
  },
  {
   "cell_type": "code",
   "execution_count": 24,
   "id": "middle-moldova",
   "metadata": {},
   "outputs": [
    {
     "data": {
      "text/plain": [
       "array([[ 510, -340,    0],\n",
       "       [-340,  510, -170],\n",
       "       [   0, -170,  170]])"
      ]
     },
     "execution_count": 24,
     "metadata": {},
     "output_type": "execute_result"
    }
   ],
   "source": [
    "KN"
   ]
  },
  {
   "cell_type": "code",
   "execution_count": 25,
   "id": "proper-perth",
   "metadata": {},
   "outputs": [],
   "source": [
    "INVKN=np.linalg.inv(KN)"
   ]
  },
  {
   "cell_type": "code",
   "execution_count": 26,
   "id": "spectacular-priest",
   "metadata": {},
   "outputs": [
    {
     "data": {
      "text/plain": [
       "array([[0.00588235, 0.00588235, 0.00588235],\n",
       "       [0.00588235, 0.00882353, 0.00882353],\n",
       "       [0.00588235, 0.00882353, 0.01470588]])"
      ]
     },
     "execution_count": 26,
     "metadata": {},
     "output_type": "execute_result"
    }
   ],
   "source": [
    "INVKN"
   ]
  },
  {
   "cell_type": "code",
   "execution_count": 27,
   "id": "chief-receipt",
   "metadata": {},
   "outputs": [],
   "source": [
    "FN=np.array([[0],\n",
    "             [0],\n",
    "             [25]])"
   ]
  },
  {
   "cell_type": "code",
   "execution_count": 28,
   "id": "generic-principal",
   "metadata": {},
   "outputs": [
    {
     "data": {
      "text/plain": [
       "array([[ 0],\n",
       "       [ 0],\n",
       "       [25]])"
      ]
     },
     "execution_count": 28,
     "metadata": {},
     "output_type": "execute_result"
    }
   ],
   "source": [
    "FN"
   ]
  },
  {
   "cell_type": "code",
   "execution_count": 29,
   "id": "endangered-processor",
   "metadata": {},
   "outputs": [],
   "source": [
    "U=FN*INVKN"
   ]
  },
  {
   "cell_type": "code",
   "execution_count": 30,
   "id": "hollow-chrome",
   "metadata": {},
   "outputs": [
    {
     "data": {
      "text/plain": [
       "array([[0.        , 0.        , 0.        ],\n",
       "       [0.        , 0.        , 0.        ],\n",
       "       [0.14705882, 0.22058824, 0.36764706]])"
      ]
     },
     "execution_count": 30,
     "metadata": {},
     "output_type": "execute_result"
    }
   ],
   "source": [
    "U"
   ]
  },
  {
   "cell_type": "code",
   "execution_count": 31,
   "id": "certain-carter",
   "metadata": {},
   "outputs": [],
   "source": [
    "UT=np.transpose(U)"
   ]
  },
  {
   "cell_type": "code",
   "execution_count": 32,
   "id": "colored-camel",
   "metadata": {},
   "outputs": [
    {
     "data": {
      "text/plain": [
       "array([[0.        , 0.        , 0.14705882],\n",
       "       [0.        , 0.        , 0.22058824],\n",
       "       [0.        , 0.        , 0.36764706]])"
      ]
     },
     "execution_count": 32,
     "metadata": {},
     "output_type": "execute_result"
    }
   ],
   "source": [
    "UT"
   ]
  },
  {
   "cell_type": "code",
   "execution_count": 33,
   "id": "environmental-guyana",
   "metadata": {},
   "outputs": [],
   "source": [
    "U4=np.array([[0],\n",
    "            [0.14705882],\n",
    "            [0.22058824],\n",
    "            [0.36764706]])"
   ]
  },
  {
   "cell_type": "code",
   "execution_count": 34,
   "id": "plastic-trademark",
   "metadata": {},
   "outputs": [],
   "source": [
    "F=np.matmul(KG, U4)"
   ]
  },
  {
   "cell_type": "code",
   "execution_count": 35,
   "id": "upper-battlefield",
   "metadata": {},
   "outputs": [
    {
     "data": {
      "text/plain": [
       "array([[-24.9999994],\n",
       "       [ 74.9999982],\n",
       "       [ 50.0000022],\n",
       "       [ 24.9999994]])"
      ]
     },
     "execution_count": 35,
     "metadata": {},
     "output_type": "execute_result"
    }
   ],
   "source": [
    "F"
   ]
  },
  {
   "cell_type": "markdown",
   "id": "cordless-greeting",
   "metadata": {},
   "source": [
    "PROBLEMA 2 EXAMEN"
   ]
  },
  {
   "cell_type": "code",
   "execution_count": 36,
   "id": "automated-engagement",
   "metadata": {},
   "outputs": [],
   "source": [
    "A=np.array([[2,1,2,-3],\n",
    "               [2,-2,1,-4],\n",
    "               [1,0,2,-3],\n",
    "               [4,4,-4,1]])"
   ]
  },
  {
   "cell_type": "code",
   "execution_count": 37,
   "id": "artistic-relay",
   "metadata": {},
   "outputs": [],
   "source": [
    "V=np.array([[0],\n",
    "            [5],\n",
    "            [-4],\n",
    "            [-6]])"
   ]
  },
  {
   "cell_type": "code",
   "execution_count": 38,
   "id": "engaged-shareware",
   "metadata": {},
   "outputs": [],
   "source": [
    "A_inv=np.linalg.inv(A)"
   ]
  },
  {
   "cell_type": "code",
   "execution_count": 39,
   "id": "careful-gallery",
   "metadata": {},
   "outputs": [],
   "source": [
    "R=np.matmul(A_inv, V)"
   ]
  },
  {
   "cell_type": "code",
   "execution_count": 41,
   "id": "subsequent-racing",
   "metadata": {},
   "outputs": [
    {
     "data": {
      "text/plain": [
       "array([[12. ],\n",
       "       [-8. ],\n",
       "       [ 8.2],\n",
       "       [10.8]])"
      ]
     },
     "execution_count": 41,
     "metadata": {},
     "output_type": "execute_result"
    }
   ],
   "source": [
    "R"
   ]
  },
  {
   "cell_type": "markdown",
   "id": "finnish-sugar",
   "metadata": {},
   "source": [
    "PROBLEMA 3 EXAMEN"
   ]
  },
  {
   "cell_type": "code",
   "execution_count": 42,
   "id": "peripheral-remedy",
   "metadata": {},
   "outputs": [],
   "source": [
    "P3=np.array([[2,3,1],\n",
    "               [5,4,1],\n",
    "               [1,7,1]])"
   ]
  },
  {
   "cell_type": "code",
   "execution_count": 43,
   "id": "encouraging-fifty",
   "metadata": {},
   "outputs": [
    {
     "data": {
      "text/plain": [
       "6.5"
      ]
     },
     "execution_count": 43,
     "metadata": {},
     "output_type": "execute_result"
    }
   ],
   "source": [
    "1/2*np.linalg.det(P3)\n"
   ]
  },
  {
   "cell_type": "markdown",
   "id": "silent-affair",
   "metadata": {},
   "source": [
    "PROBLEMA 4 EXAMEN"
   ]
  },
  {
   "cell_type": "code",
   "execution_count": 44,
   "id": "common-oxford",
   "metadata": {},
   "outputs": [],
   "source": [
    "KG4=np.array([[120,-120,0,0,0],\n",
    "               [-120,240,-120,0,0],\n",
    "               [0,-120,240,-120, 0],\n",
    "               [0,0, -120,240,-120],\n",
    "               [0,0,0,-120,120]])"
   ]
  },
  {
   "cell_type": "code",
   "execution_count": 45,
   "id": "tired-interstate",
   "metadata": {},
   "outputs": [],
   "source": [
    "KN4=np.array([[240,-120,0,0],\n",
    "               [-120,240,-120, 0],\n",
    "               [0, -120,240,-120],\n",
    "               [0,0,-120,120]])"
   ]
  },
  {
   "cell_type": "code",
   "execution_count": 46,
   "id": "british-commonwealth",
   "metadata": {},
   "outputs": [],
   "source": [
    "KN4_inv=np.linalg.inv(KN4)"
   ]
  },
  {
   "cell_type": "code",
   "execution_count": 76,
   "id": "valuable-despite",
   "metadata": {},
   "outputs": [],
   "source": [
    "FN=np.array([[0],\n",
    "            [0],\n",
    "            [0],\n",
    "            [20]])"
   ]
  },
  {
   "cell_type": "code",
   "execution_count": 77,
   "id": "portuguese-apparatus",
   "metadata": {},
   "outputs": [],
   "source": [
    "U4=np.matmul(KN4_inv, FN)"
   ]
  },
  {
   "cell_type": "code",
   "execution_count": 78,
   "id": "hollywood-gateway",
   "metadata": {},
   "outputs": [
    {
     "data": {
      "text/plain": [
       "array([[0.16666667],\n",
       "       [0.33333333],\n",
       "       [0.5       ],\n",
       "       [0.66666667]])"
      ]
     },
     "execution_count": 78,
     "metadata": {},
     "output_type": "execute_result"
    }
   ],
   "source": [
    "U4"
   ]
  },
  {
   "cell_type": "code",
   "execution_count": 79,
   "id": "appropriate-crown",
   "metadata": {},
   "outputs": [],
   "source": [
    "U5=np.array([[0],\n",
    "       [0.16666667],\n",
    "       [0.33333333],\n",
    "       [0.5       ],\n",
    "       [0.66666667]])"
   ]
  },
  {
   "cell_type": "code",
   "execution_count": 81,
   "id": "responsible-norway",
   "metadata": {},
   "outputs": [
    {
     "data": {
      "text/plain": [
       "array([[0.        ],\n",
       "       [0.16666667],\n",
       "       [0.33333333],\n",
       "       [0.5       ],\n",
       "       [0.66666667]])"
      ]
     },
     "execution_count": 81,
     "metadata": {},
     "output_type": "execute_result"
    }
   ],
   "source": [
    "U5"
   ]
  },
  {
   "cell_type": "code",
   "execution_count": 89,
   "id": "intensive-mechanics",
   "metadata": {},
   "outputs": [],
   "source": [
    "#FU=KG4*U4N\n",
    "FU=np.matmul(KG4,U5)"
   ]
  },
  {
   "cell_type": "code",
   "execution_count": 92,
   "id": "separate-foster",
   "metadata": {},
   "outputs": [
    {
     "data": {
      "text/plain": [
       "array([[-20.0000004],\n",
       "       [  0.0000012],\n",
       "       [ -0.0000012],\n",
       "       [  0.       ],\n",
       "       [ 20.0000004]])"
      ]
     },
     "execution_count": 92,
     "metadata": {},
     "output_type": "execute_result"
    }
   ],
   "source": [
    "FU"
   ]
  },
  {
   "cell_type": "code",
   "execution_count": null,
   "id": "characteristic-knowing",
   "metadata": {},
   "outputs": [],
   "source": []
  },
  {
   "cell_type": "code",
   "execution_count": null,
   "id": "potential-movement",
   "metadata": {},
   "outputs": [],
   "source": []
  }
 ],
 "metadata": {
  "kernelspec": {
   "display_name": "Python 3",
   "language": "python",
   "name": "python3"
  },
  "language_info": {
   "codemirror_mode": {
    "name": "ipython",
    "version": 3
   },
   "file_extension": ".py",
   "mimetype": "text/x-python",
   "name": "python",
   "nbconvert_exporter": "python",
   "pygments_lexer": "ipython3",
   "version": "3.8.5"
  }
 },
 "nbformat": 4,
 "nbformat_minor": 5
}
