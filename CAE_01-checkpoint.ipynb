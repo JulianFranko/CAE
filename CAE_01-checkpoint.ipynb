{
 "cells": [
  {
   "cell_type": "code",
   "execution_count": 1,
   "id": "based-stuart",
   "metadata": {},
   "outputs": [],
   "source": [
    "import numpy as np"
   ]
  },
  {
   "cell_type": "code",
   "execution_count": 2,
   "id": "expected-earthquake",
   "metadata": {},
   "outputs": [],
   "source": [
    "KG=np.array([[170,-170,0,0],\n",
    "               [-170,510,0,0],\n",
    "               [0,0,510,-170],\n",
    "               [0,0,-170,170]])"
   ]
  },
  {
   "cell_type": "code",
   "execution_count": 3,
   "id": "collaborative-variation",
   "metadata": {},
   "outputs": [],
   "source": [
    "KN=np.array([[510,-340,0],\n",
    "             [-340,510,-170],\n",
    "             [0,-170,170]])\n",
    "             "
   ]
  },
  {
   "cell_type": "code",
   "execution_count": 4,
   "id": "editorial-validity",
   "metadata": {},
   "outputs": [
    {
     "data": {
      "text/plain": [
       "array([[ 510, -340,    0],\n",
       "       [-340,  510, -170],\n",
       "       [   0, -170,  170]])"
      ]
     },
     "execution_count": 4,
     "metadata": {},
     "output_type": "execute_result"
    }
   ],
   "source": [
    "KN"
   ]
  },
  {
   "cell_type": "code",
   "execution_count": 5,
   "id": "genuine-adams",
   "metadata": {},
   "outputs": [],
   "source": [
    "INVKN=np.linalg.inv(KN)"
   ]
  },
  {
   "cell_type": "code",
   "execution_count": 6,
   "id": "colonial-cycle",
   "metadata": {},
   "outputs": [
    {
     "data": {
      "text/plain": [
       "array([[0.00588235, 0.00588235, 0.00588235],\n",
       "       [0.00588235, 0.00882353, 0.00882353],\n",
       "       [0.00588235, 0.00882353, 0.01470588]])"
      ]
     },
     "execution_count": 6,
     "metadata": {},
     "output_type": "execute_result"
    }
   ],
   "source": [
    "INVKN"
   ]
  },
  {
   "cell_type": "code",
   "execution_count": 7,
   "id": "funny-rapid",
   "metadata": {},
   "outputs": [],
   "source": [
    "FN=np.array([[0],\n",
    "             [0],\n",
    "             [25]])"
   ]
  },
  {
   "cell_type": "code",
   "execution_count": 8,
   "id": "legal-myanmar",
   "metadata": {},
   "outputs": [
    {
     "data": {
      "text/plain": [
       "array([[ 0],\n",
       "       [ 0],\n",
       "       [25]])"
      ]
     },
     "execution_count": 8,
     "metadata": {},
     "output_type": "execute_result"
    }
   ],
   "source": [
    "FN"
   ]
  },
  {
   "cell_type": "code",
   "execution_count": 9,
   "id": "official-voltage",
   "metadata": {},
   "outputs": [],
   "source": [
    "U=FN*INVKN"
   ]
  },
  {
   "cell_type": "code",
   "execution_count": 10,
   "id": "wrapped-sunglasses",
   "metadata": {},
   "outputs": [
    {
     "data": {
      "text/plain": [
       "array([[0.        , 0.        , 0.        ],\n",
       "       [0.        , 0.        , 0.        ],\n",
       "       [0.14705882, 0.22058824, 0.36764706]])"
      ]
     },
     "execution_count": 10,
     "metadata": {},
     "output_type": "execute_result"
    }
   ],
   "source": [
    "U"
   ]
  },
  {
   "cell_type": "code",
   "execution_count": 11,
   "id": "floppy-tradition",
   "metadata": {},
   "outputs": [],
   "source": [
    "UT=np.transpose(U)"
   ]
  },
  {
   "cell_type": "code",
   "execution_count": 12,
   "id": "cordless-tooth",
   "metadata": {},
   "outputs": [
    {
     "data": {
      "text/plain": [
       "array([[0.        , 0.        , 0.14705882],\n",
       "       [0.        , 0.        , 0.22058824],\n",
       "       [0.        , 0.        , 0.36764706]])"
      ]
     },
     "execution_count": 12,
     "metadata": {},
     "output_type": "execute_result"
    }
   ],
   "source": [
    "UT"
   ]
  },
  {
   "cell_type": "code",
   "execution_count": 26,
   "id": "cordless-foster",
   "metadata": {},
   "outputs": [],
   "source": [
    "U4=np.array([[0],\n",
    "            [0.14705882],\n",
    "            [0.22058824],\n",
    "            [0.36764706]])"
   ]
  },
  {
   "cell_type": "code",
   "execution_count": 43,
   "id": "funny-motel",
   "metadata": {},
   "outputs": [],
   "source": [
    "F=np.matmul(KG, U4)"
   ]
  },
  {
   "cell_type": "code",
   "execution_count": 44,
   "id": "funky-resource",
   "metadata": {},
   "outputs": [
    {
     "data": {
      "text/plain": [
       "array([[-24.9999994],\n",
       "       [ 74.9999982],\n",
       "       [ 50.0000022],\n",
       "       [ 24.9999994]])"
      ]
     },
     "execution_count": 44,
     "metadata": {},
     "output_type": "execute_result"
    }
   ],
   "source": [
    "F"
   ]
  }
 ],
 "metadata": {
  "kernelspec": {
   "display_name": "Python 3",
   "language": "python",
   "name": "python3"
  },
  "language_info": {
   "codemirror_mode": {
    "name": "ipython",
    "version": 3
   },
   "file_extension": ".py",
   "mimetype": "text/x-python",
   "name": "python",
   "nbconvert_exporter": "python",
   "pygments_lexer": "ipython3",
   "version": "3.8.5"
  }
 },
 "nbformat": 4,
 "nbformat_minor": 5
}
